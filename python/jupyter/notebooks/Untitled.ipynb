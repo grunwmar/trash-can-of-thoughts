{
 "cells": [
  {
   "cell_type": "code",
   "execution_count": 2,
   "id": "6980e246-1a71-4868-8001-52071cc533ca",
   "metadata": {},
   "outputs": [],
   "source": [
    "import numpy as np\n",
    "import pandas as pd"
   ]
  },
  {
   "cell_type": "code",
   "execution_count": 27,
   "id": "34e78ab9-7c19-477a-9288-8e96c98db05b",
   "metadata": {},
   "outputs": [
    {
     "data": {
      "text/html": [
       "<div>\n",
       "<style scoped>\n",
       "    .dataframe tbody tr th:only-of-type {\n",
       "        vertical-align: middle;\n",
       "    }\n",
       "\n",
       "    .dataframe tbody tr th {\n",
       "        vertical-align: top;\n",
       "    }\n",
       "\n",
       "    .dataframe thead th {\n",
       "        text-align: right;\n",
       "    }\n",
       "</style>\n",
       "<table border=\"1\" class=\"dataframe\">\n",
       "  <thead>\n",
       "    <tr style=\"text-align: right;\">\n",
       "      <th></th>\n",
       "      <th>name</th>\n",
       "      <th>GPD</th>\n",
       "      <th>GDP AVR DIF</th>\n",
       "    </tr>\n",
       "  </thead>\n",
       "  <tbody>\n",
       "    <tr>\n",
       "      <th>0</th>\n",
       "      <td>CZ</td>\n",
       "      <td>49020</td>\n",
       "      <td>-3265</td>\n",
       "    </tr>\n",
       "    <tr>\n",
       "      <th>1</th>\n",
       "      <td>SK</td>\n",
       "      <td>44260</td>\n",
       "      <td>-8025</td>\n",
       "    </tr>\n",
       "    <tr>\n",
       "      <th>2</th>\n",
       "      <td>HU</td>\n",
       "      <td>43601</td>\n",
       "      <td>-8684</td>\n",
       "    </tr>\n",
       "    <tr>\n",
       "      <th>3</th>\n",
       "      <td>PL</td>\n",
       "      <td>45538</td>\n",
       "      <td>-6747</td>\n",
       "    </tr>\n",
       "    <tr>\n",
       "      <th>4</th>\n",
       "      <td>DE</td>\n",
       "      <td>66037</td>\n",
       "      <td>13752</td>\n",
       "    </tr>\n",
       "    <tr>\n",
       "      <th>5</th>\n",
       "      <td>AT</td>\n",
       "      <td>69069</td>\n",
       "      <td>16784</td>\n",
       "    </tr>\n",
       "    <tr>\n",
       "      <th>6</th>\n",
       "      <td>IT</td>\n",
       "      <td>54258</td>\n",
       "      <td>1973</td>\n",
       "    </tr>\n",
       "    <tr>\n",
       "      <th>7</th>\n",
       "      <td>HR</td>\n",
       "      <td>45087</td>\n",
       "      <td>-7198</td>\n",
       "    </tr>\n",
       "    <tr>\n",
       "      <th>8</th>\n",
       "      <td>SI</td>\n",
       "      <td>53698</td>\n",
       "      <td>1413</td>\n",
       "    </tr>\n",
       "  </tbody>\n",
       "</table>\n",
       "</div>"
      ],
      "text/plain": [
       "  name    GPD  GDP AVR DIF\n",
       "0   CZ  49020        -3265\n",
       "1   SK  44260        -8025\n",
       "2   HU  43601        -8684\n",
       "3   PL  45538        -6747\n",
       "4   DE  66037        13752\n",
       "5   AT  69069        16784\n",
       "6   IT  54258         1973\n",
       "7   HR  45087        -7198\n",
       "8   SI  53698         1413"
      ]
     },
     "execution_count": 27,
     "metadata": {},
     "output_type": "execute_result"
    }
   ],
   "source": [
    "gdp_list = [49020, 44260, 43601, 45538, 66037, 69069, 54258, 45087, 53698]\n",
    "avr = sum(gdp_list)/len(gdp_list)\n",
    "gdp_aver_dif = [round(x-avr) for x in gdp_list]\n",
    "df = pd.DataFrame({\n",
    "    \"name\": [\"CZ\", \"SK\", \"HU\", \"PL\", \"DE\", \"AT\", \"IT\", \"HR\", \"SI\"],\n",
    "    \"GPD\": gdp_list,\n",
    "    \"GDP AVR DIF\": gdp_aver_dif\n",
    "})\n",
    "df"
   ]
  },
  {
   "cell_type": "code",
   "execution_count": null,
   "id": "7ec3825b-d867-4faa-81d0-6b0a4ff76feb",
   "metadata": {},
   "outputs": [],
   "source": []
  },
  {
   "cell_type": "code",
   "execution_count": null,
   "id": "ad21d899-2a5e-4da8-a1b3-878de65ce1b4",
   "metadata": {},
   "outputs": [],
   "source": []
  }
 ],
 "metadata": {
  "kernelspec": {
   "display_name": "Python 3 (ipykernel)",
   "language": "python",
   "name": "python3"
  },
  "language_info": {
   "codemirror_mode": {
    "name": "ipython",
    "version": 3
   },
   "file_extension": ".py",
   "mimetype": "text/x-python",
   "name": "python",
   "nbconvert_exporter": "python",
   "pygments_lexer": "ipython3",
   "version": "3.12.2"
  }
 },
 "nbformat": 4,
 "nbformat_minor": 5
}
